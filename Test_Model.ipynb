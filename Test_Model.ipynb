{
 "cells": [
  {
   "cell_type": "code",
   "execution_count": 1,
   "id": "3095ee6f",
   "metadata": {},
   "outputs": [],
   "source": [
    "import pandas as pd\n",
    "import numpy as np\n",
    "import matplotlib.pyplot as plt"
   ]
  },
  {
   "cell_type": "code",
   "execution_count": 2,
   "id": "e1212fd4",
   "metadata": {},
   "outputs": [],
   "source": [
    "df = pd.read_csv('data_cleaned.csv')\n",
    "target = pd.read_csv('train_target.csv')"
   ]
  },
  {
   "cell_type": "code",
   "execution_count": 3,
   "id": "49c73cc5",
   "metadata": {},
   "outputs": [
    {
     "data": {
      "text/html": [
       "<div>\n",
       "<style scoped>\n",
       "    .dataframe tbody tr th:only-of-type {\n",
       "        vertical-align: middle;\n",
       "    }\n",
       "\n",
       "    .dataframe tbody tr th {\n",
       "        vertical-align: top;\n",
       "    }\n",
       "\n",
       "    .dataframe thead th {\n",
       "        text-align: right;\n",
       "    }\n",
       "</style>\n",
       "<table border=\"1\" class=\"dataframe\">\n",
       "  <thead>\n",
       "    <tr style=\"text-align: right;\">\n",
       "      <th></th>\n",
       "      <th>Item_Identifier</th>\n",
       "      <th>Item_Weight</th>\n",
       "      <th>Item_Fat_Content</th>\n",
       "      <th>Item_Visibility</th>\n",
       "      <th>Item_Type</th>\n",
       "      <th>Item_MRP</th>\n",
       "      <th>Outlet_Identifier</th>\n",
       "      <th>Outlet_Establishment_Year</th>\n",
       "      <th>Outlet_Size</th>\n",
       "      <th>Outlet_Location_Type</th>\n",
       "      <th>Outlet_Type</th>\n",
       "      <th>New_Item_Type</th>\n",
       "      <th>Outlet_Years</th>\n",
       "    </tr>\n",
       "  </thead>\n",
       "  <tbody>\n",
       "    <tr>\n",
       "      <th>0</th>\n",
       "      <td>FDA15</td>\n",
       "      <td>9.30</td>\n",
       "      <td>LOW FAT</td>\n",
       "      <td>0.016047</td>\n",
       "      <td>Dairy</td>\n",
       "      <td>249.8092</td>\n",
       "      <td>OUT049</td>\n",
       "      <td>1999</td>\n",
       "      <td>Medium</td>\n",
       "      <td>Tier 1</td>\n",
       "      <td>Supermarket Type1</td>\n",
       "      <td>Food</td>\n",
       "      <td>14</td>\n",
       "    </tr>\n",
       "    <tr>\n",
       "      <th>1</th>\n",
       "      <td>DRC01</td>\n",
       "      <td>5.92</td>\n",
       "      <td>REGULAR</td>\n",
       "      <td>0.019278</td>\n",
       "      <td>Soft Drinks</td>\n",
       "      <td>48.2692</td>\n",
       "      <td>OUT018</td>\n",
       "      <td>2009</td>\n",
       "      <td>Medium</td>\n",
       "      <td>Tier 3</td>\n",
       "      <td>Supermarket Type2</td>\n",
       "      <td>Drinks</td>\n",
       "      <td>4</td>\n",
       "    </tr>\n",
       "    <tr>\n",
       "      <th>2</th>\n",
       "      <td>FDN15</td>\n",
       "      <td>17.50</td>\n",
       "      <td>LOW FAT</td>\n",
       "      <td>0.016760</td>\n",
       "      <td>Meat</td>\n",
       "      <td>141.6180</td>\n",
       "      <td>OUT049</td>\n",
       "      <td>1999</td>\n",
       "      <td>Medium</td>\n",
       "      <td>Tier 1</td>\n",
       "      <td>Supermarket Type1</td>\n",
       "      <td>Food</td>\n",
       "      <td>14</td>\n",
       "    </tr>\n",
       "    <tr>\n",
       "      <th>3</th>\n",
       "      <td>FDX07</td>\n",
       "      <td>19.20</td>\n",
       "      <td>REGULAR</td>\n",
       "      <td>0.000000</td>\n",
       "      <td>Fruits and Vegetables</td>\n",
       "      <td>182.0950</td>\n",
       "      <td>OUT010</td>\n",
       "      <td>1998</td>\n",
       "      <td>Medium</td>\n",
       "      <td>Tier 3</td>\n",
       "      <td>Grocery Store</td>\n",
       "      <td>Food</td>\n",
       "      <td>15</td>\n",
       "    </tr>\n",
       "    <tr>\n",
       "      <th>4</th>\n",
       "      <td>NCD19</td>\n",
       "      <td>8.93</td>\n",
       "      <td>Non-Edible</td>\n",
       "      <td>0.000000</td>\n",
       "      <td>Household</td>\n",
       "      <td>53.8614</td>\n",
       "      <td>OUT013</td>\n",
       "      <td>1987</td>\n",
       "      <td>High</td>\n",
       "      <td>Tier 3</td>\n",
       "      <td>Supermarket Type1</td>\n",
       "      <td>Non-Consumables</td>\n",
       "      <td>26</td>\n",
       "    </tr>\n",
       "  </tbody>\n",
       "</table>\n",
       "</div>"
      ],
      "text/plain": [
       "  Item_Identifier  Item_Weight Item_Fat_Content  Item_Visibility  \\\n",
       "0           FDA15         9.30          LOW FAT         0.016047   \n",
       "1           DRC01         5.92          REGULAR         0.019278   \n",
       "2           FDN15        17.50          LOW FAT         0.016760   \n",
       "3           FDX07        19.20          REGULAR         0.000000   \n",
       "4           NCD19         8.93       Non-Edible         0.000000   \n",
       "\n",
       "               Item_Type  Item_MRP Outlet_Identifier  \\\n",
       "0                  Dairy  249.8092            OUT049   \n",
       "1            Soft Drinks   48.2692            OUT018   \n",
       "2                   Meat  141.6180            OUT049   \n",
       "3  Fruits and Vegetables  182.0950            OUT010   \n",
       "4              Household   53.8614            OUT013   \n",
       "\n",
       "   Outlet_Establishment_Year Outlet_Size Outlet_Location_Type  \\\n",
       "0                       1999      Medium               Tier 1   \n",
       "1                       2009      Medium               Tier 3   \n",
       "2                       1999      Medium               Tier 1   \n",
       "3                       1998      Medium               Tier 3   \n",
       "4                       1987        High               Tier 3   \n",
       "\n",
       "         Outlet_Type    New_Item_Type  Outlet_Years  \n",
       "0  Supermarket Type1             Food            14  \n",
       "1  Supermarket Type2           Drinks             4  \n",
       "2  Supermarket Type1             Food            14  \n",
       "3      Grocery Store             Food            15  \n",
       "4  Supermarket Type1  Non-Consumables            26  "
      ]
     },
     "execution_count": 3,
     "metadata": {},
     "output_type": "execute_result"
    }
   ],
   "source": [
    "df.head()"
   ]
  },
  {
   "cell_type": "code",
   "execution_count": 4,
   "id": "aeabbe52",
   "metadata": {},
   "outputs": [],
   "source": [
    "df.columns = df.columns.str.lower() #for better use"
   ]
  },
  {
   "cell_type": "code",
   "execution_count": 5,
   "id": "3356d7c2",
   "metadata": {},
   "outputs": [],
   "source": [
    "# splitting the inital test set from the dataframe\n",
    "test = df.loc[8523:]\n",
    "test.reset_index(drop=True,inplace = True)"
   ]
  },
  {
   "cell_type": "code",
   "execution_count": 6,
   "id": "f8e23277",
   "metadata": {},
   "outputs": [],
   "source": [
    "#splitting the initial train set from the dataframe \n",
    "train = df.loc[:8522]\n",
    "train.reset_index(drop=True,inplace = True)"
   ]
  },
  {
   "cell_type": "code",
   "execution_count": 7,
   "id": "c029899c",
   "metadata": {},
   "outputs": [],
   "source": [
    "train = pd.concat([train,target],axis = 1)"
   ]
  },
  {
   "cell_type": "code",
   "execution_count": 8,
   "id": "72619c6a",
   "metadata": {},
   "outputs": [
    {
     "data": {
      "text/plain": [
       "array(['LOW FAT', 'REGULAR', 'Non-Edible'], dtype=object)"
      ]
     },
     "execution_count": 8,
     "metadata": {},
     "output_type": "execute_result"
    }
   ],
   "source": [
    "train['item_fat_content'].unique()"
   ]
  },
  {
   "cell_type": "code",
   "execution_count": 9,
   "id": "fa11994f",
   "metadata": {},
   "outputs": [],
   "source": [
    "train['Item_Outlet_Sales'] = np.log(1+train['Item_Outlet_Sales'])"
   ]
  },
  {
   "cell_type": "code",
   "execution_count": 10,
   "id": "ad57772c",
   "metadata": {},
   "outputs": [
    {
     "data": {
      "text/html": [
       "<div>\n",
       "<style scoped>\n",
       "    .dataframe tbody tr th:only-of-type {\n",
       "        vertical-align: middle;\n",
       "    }\n",
       "\n",
       "    .dataframe tbody tr th {\n",
       "        vertical-align: top;\n",
       "    }\n",
       "\n",
       "    .dataframe thead th {\n",
       "        text-align: right;\n",
       "    }\n",
       "</style>\n",
       "<table border=\"1\" class=\"dataframe\">\n",
       "  <thead>\n",
       "    <tr style=\"text-align: right;\">\n",
       "      <th></th>\n",
       "      <th>item_identifier</th>\n",
       "      <th>item_weight</th>\n",
       "      <th>item_fat_content</th>\n",
       "      <th>item_visibility</th>\n",
       "      <th>item_type</th>\n",
       "      <th>item_mrp</th>\n",
       "      <th>outlet_identifier</th>\n",
       "      <th>outlet_establishment_year</th>\n",
       "      <th>outlet_size</th>\n",
       "      <th>outlet_location_type</th>\n",
       "      <th>outlet_type</th>\n",
       "      <th>new_item_type</th>\n",
       "      <th>outlet_years</th>\n",
       "      <th>Item_Outlet_Sales</th>\n",
       "    </tr>\n",
       "  </thead>\n",
       "  <tbody>\n",
       "    <tr>\n",
       "      <th>0</th>\n",
       "      <td>FDA15</td>\n",
       "      <td>9.30</td>\n",
       "      <td>LOW FAT</td>\n",
       "      <td>0.016047</td>\n",
       "      <td>Dairy</td>\n",
       "      <td>249.8092</td>\n",
       "      <td>OUT049</td>\n",
       "      <td>1999</td>\n",
       "      <td>Medium</td>\n",
       "      <td>Tier 1</td>\n",
       "      <td>Supermarket Type1</td>\n",
       "      <td>Food</td>\n",
       "      <td>14</td>\n",
       "      <td>8.225808</td>\n",
       "    </tr>\n",
       "    <tr>\n",
       "      <th>1</th>\n",
       "      <td>DRC01</td>\n",
       "      <td>5.92</td>\n",
       "      <td>REGULAR</td>\n",
       "      <td>0.019278</td>\n",
       "      <td>Soft Drinks</td>\n",
       "      <td>48.2692</td>\n",
       "      <td>OUT018</td>\n",
       "      <td>2009</td>\n",
       "      <td>Medium</td>\n",
       "      <td>Tier 3</td>\n",
       "      <td>Supermarket Type2</td>\n",
       "      <td>Drinks</td>\n",
       "      <td>4</td>\n",
       "      <td>6.096776</td>\n",
       "    </tr>\n",
       "    <tr>\n",
       "      <th>2</th>\n",
       "      <td>FDN15</td>\n",
       "      <td>17.50</td>\n",
       "      <td>LOW FAT</td>\n",
       "      <td>0.016760</td>\n",
       "      <td>Meat</td>\n",
       "      <td>141.6180</td>\n",
       "      <td>OUT049</td>\n",
       "      <td>1999</td>\n",
       "      <td>Medium</td>\n",
       "      <td>Tier 1</td>\n",
       "      <td>Supermarket Type1</td>\n",
       "      <td>Food</td>\n",
       "      <td>14</td>\n",
       "      <td>7.648868</td>\n",
       "    </tr>\n",
       "    <tr>\n",
       "      <th>3</th>\n",
       "      <td>FDX07</td>\n",
       "      <td>19.20</td>\n",
       "      <td>REGULAR</td>\n",
       "      <td>0.000000</td>\n",
       "      <td>Fruits and Vegetables</td>\n",
       "      <td>182.0950</td>\n",
       "      <td>OUT010</td>\n",
       "      <td>1998</td>\n",
       "      <td>Medium</td>\n",
       "      <td>Tier 3</td>\n",
       "      <td>Grocery Store</td>\n",
       "      <td>Food</td>\n",
       "      <td>15</td>\n",
       "      <td>6.597664</td>\n",
       "    </tr>\n",
       "    <tr>\n",
       "      <th>4</th>\n",
       "      <td>NCD19</td>\n",
       "      <td>8.93</td>\n",
       "      <td>Non-Edible</td>\n",
       "      <td>0.000000</td>\n",
       "      <td>Household</td>\n",
       "      <td>53.8614</td>\n",
       "      <td>OUT013</td>\n",
       "      <td>1987</td>\n",
       "      <td>High</td>\n",
       "      <td>Tier 3</td>\n",
       "      <td>Supermarket Type1</td>\n",
       "      <td>Non-Consumables</td>\n",
       "      <td>26</td>\n",
       "      <td>6.903451</td>\n",
       "    </tr>\n",
       "  </tbody>\n",
       "</table>\n",
       "</div>"
      ],
      "text/plain": [
       "  item_identifier  item_weight item_fat_content  item_visibility  \\\n",
       "0           FDA15         9.30          LOW FAT         0.016047   \n",
       "1           DRC01         5.92          REGULAR         0.019278   \n",
       "2           FDN15        17.50          LOW FAT         0.016760   \n",
       "3           FDX07        19.20          REGULAR         0.000000   \n",
       "4           NCD19         8.93       Non-Edible         0.000000   \n",
       "\n",
       "               item_type  item_mrp outlet_identifier  \\\n",
       "0                  Dairy  249.8092            OUT049   \n",
       "1            Soft Drinks   48.2692            OUT018   \n",
       "2                   Meat  141.6180            OUT049   \n",
       "3  Fruits and Vegetables  182.0950            OUT010   \n",
       "4              Household   53.8614            OUT013   \n",
       "\n",
       "   outlet_establishment_year outlet_size outlet_location_type  \\\n",
       "0                       1999      Medium               Tier 1   \n",
       "1                       2009      Medium               Tier 3   \n",
       "2                       1999      Medium               Tier 1   \n",
       "3                       1998      Medium               Tier 3   \n",
       "4                       1987        High               Tier 3   \n",
       "\n",
       "         outlet_type    new_item_type  outlet_years  Item_Outlet_Sales  \n",
       "0  Supermarket Type1             Food            14           8.225808  \n",
       "1  Supermarket Type2           Drinks             4           6.096776  \n",
       "2  Supermarket Type1             Food            14           7.648868  \n",
       "3      Grocery Store             Food            15           6.597664  \n",
       "4  Supermarket Type1  Non-Consumables            26           6.903451  "
      ]
     },
     "execution_count": 10,
     "metadata": {},
     "output_type": "execute_result"
    }
   ],
   "source": [
    "train.head()"
   ]
  },
  {
   "cell_type": "code",
   "execution_count": 11,
   "id": "a682040b",
   "metadata": {},
   "outputs": [],
   "source": [
    "data = train.copy()"
   ]
  },
  {
   "cell_type": "code",
   "execution_count": 12,
   "id": "dc33fcb3",
   "metadata": {},
   "outputs": [],
   "source": [
    "dff = train.copy()"
   ]
  },
  {
   "cell_type": "code",
   "execution_count": 13,
   "id": "1841dab2",
   "metadata": {},
   "outputs": [],
   "source": [
    "from sklearn.preprocessing import LabelEncoder\n",
    "le = LabelEncoder()\n",
    "data['Outlet'] = le.fit_transform(data['outlet_identifier'])\n",
    "\n",
    "\n",
    "\n",
    "label_col = ['outlet_size','item_fat_content','outlet_location_type','item_type','outlet_type']\n",
    "for col in label_col:\n",
    "    data[col] = le.fit_transform(data[col])"
   ]
  },
  {
   "cell_type": "code",
   "execution_count": 14,
   "id": "fbdbe130",
   "metadata": {
    "scrolled": false
   },
   "outputs": [],
   "source": [
    "data.drop(columns = ['item_identifier','outlet_identifier','outlet_establishment_year','new_item_type'],inplace = True)"
   ]
  },
  {
   "cell_type": "code",
   "execution_count": 15,
   "id": "17102bb5",
   "metadata": {},
   "outputs": [
    {
     "data": {
      "text/plain": [
       "Index(['item_weight', 'item_fat_content', 'item_visibility', 'item_type',\n",
       "       'item_mrp', 'outlet_size', 'outlet_location_type', 'outlet_type',\n",
       "       'outlet_years', 'Item_Outlet_Sales', 'Outlet'],\n",
       "      dtype='object')"
      ]
     },
     "execution_count": 15,
     "metadata": {},
     "output_type": "execute_result"
    }
   ],
   "source": [
    "data.columns"
   ]
  },
  {
   "cell_type": "code",
   "execution_count": 16,
   "id": "5ccb3807",
   "metadata": {},
   "outputs": [
    {
     "data": {
      "text/html": [
       "<div>\n",
       "<style scoped>\n",
       "    .dataframe tbody tr th:only-of-type {\n",
       "        vertical-align: middle;\n",
       "    }\n",
       "\n",
       "    .dataframe tbody tr th {\n",
       "        vertical-align: top;\n",
       "    }\n",
       "\n",
       "    .dataframe thead th {\n",
       "        text-align: right;\n",
       "    }\n",
       "</style>\n",
       "<table border=\"1\" class=\"dataframe\">\n",
       "  <thead>\n",
       "    <tr style=\"text-align: right;\">\n",
       "      <th></th>\n",
       "      <th>item_weight</th>\n",
       "      <th>item_fat_content</th>\n",
       "      <th>item_visibility</th>\n",
       "      <th>item_type</th>\n",
       "      <th>item_mrp</th>\n",
       "      <th>outlet_size</th>\n",
       "      <th>outlet_location_type</th>\n",
       "      <th>outlet_type</th>\n",
       "      <th>outlet_years</th>\n",
       "      <th>Item_Outlet_Sales</th>\n",
       "      <th>Outlet</th>\n",
       "    </tr>\n",
       "  </thead>\n",
       "  <tbody>\n",
       "    <tr>\n",
       "      <th>0</th>\n",
       "      <td>9.300</td>\n",
       "      <td>0</td>\n",
       "      <td>0.016047</td>\n",
       "      <td>4</td>\n",
       "      <td>249.8092</td>\n",
       "      <td>1</td>\n",
       "      <td>0</td>\n",
       "      <td>1</td>\n",
       "      <td>14</td>\n",
       "      <td>8.225808</td>\n",
       "      <td>9</td>\n",
       "    </tr>\n",
       "    <tr>\n",
       "      <th>1</th>\n",
       "      <td>5.920</td>\n",
       "      <td>2</td>\n",
       "      <td>0.019278</td>\n",
       "      <td>14</td>\n",
       "      <td>48.2692</td>\n",
       "      <td>1</td>\n",
       "      <td>2</td>\n",
       "      <td>2</td>\n",
       "      <td>4</td>\n",
       "      <td>6.096776</td>\n",
       "      <td>3</td>\n",
       "    </tr>\n",
       "    <tr>\n",
       "      <th>2</th>\n",
       "      <td>17.500</td>\n",
       "      <td>0</td>\n",
       "      <td>0.016760</td>\n",
       "      <td>10</td>\n",
       "      <td>141.6180</td>\n",
       "      <td>1</td>\n",
       "      <td>0</td>\n",
       "      <td>1</td>\n",
       "      <td>14</td>\n",
       "      <td>7.648868</td>\n",
       "      <td>9</td>\n",
       "    </tr>\n",
       "    <tr>\n",
       "      <th>3</th>\n",
       "      <td>19.200</td>\n",
       "      <td>2</td>\n",
       "      <td>0.000000</td>\n",
       "      <td>6</td>\n",
       "      <td>182.0950</td>\n",
       "      <td>1</td>\n",
       "      <td>2</td>\n",
       "      <td>0</td>\n",
       "      <td>15</td>\n",
       "      <td>6.597664</td>\n",
       "      <td>0</td>\n",
       "    </tr>\n",
       "    <tr>\n",
       "      <th>4</th>\n",
       "      <td>8.930</td>\n",
       "      <td>1</td>\n",
       "      <td>0.000000</td>\n",
       "      <td>9</td>\n",
       "      <td>53.8614</td>\n",
       "      <td>0</td>\n",
       "      <td>2</td>\n",
       "      <td>1</td>\n",
       "      <td>26</td>\n",
       "      <td>6.903451</td>\n",
       "      <td>1</td>\n",
       "    </tr>\n",
       "    <tr>\n",
       "      <th>...</th>\n",
       "      <td>...</td>\n",
       "      <td>...</td>\n",
       "      <td>...</td>\n",
       "      <td>...</td>\n",
       "      <td>...</td>\n",
       "      <td>...</td>\n",
       "      <td>...</td>\n",
       "      <td>...</td>\n",
       "      <td>...</td>\n",
       "      <td>...</td>\n",
       "      <td>...</td>\n",
       "    </tr>\n",
       "    <tr>\n",
       "      <th>8518</th>\n",
       "      <td>6.865</td>\n",
       "      <td>0</td>\n",
       "      <td>0.056783</td>\n",
       "      <td>13</td>\n",
       "      <td>214.5218</td>\n",
       "      <td>0</td>\n",
       "      <td>2</td>\n",
       "      <td>1</td>\n",
       "      <td>26</td>\n",
       "      <td>7.929984</td>\n",
       "      <td>1</td>\n",
       "    </tr>\n",
       "    <tr>\n",
       "      <th>8519</th>\n",
       "      <td>8.380</td>\n",
       "      <td>2</td>\n",
       "      <td>0.046982</td>\n",
       "      <td>0</td>\n",
       "      <td>108.1570</td>\n",
       "      <td>1</td>\n",
       "      <td>1</td>\n",
       "      <td>1</td>\n",
       "      <td>11</td>\n",
       "      <td>6.310436</td>\n",
       "      <td>7</td>\n",
       "    </tr>\n",
       "    <tr>\n",
       "      <th>8520</th>\n",
       "      <td>10.600</td>\n",
       "      <td>1</td>\n",
       "      <td>0.035186</td>\n",
       "      <td>8</td>\n",
       "      <td>85.1224</td>\n",
       "      <td>2</td>\n",
       "      <td>1</td>\n",
       "      <td>1</td>\n",
       "      <td>9</td>\n",
       "      <td>7.085159</td>\n",
       "      <td>6</td>\n",
       "    </tr>\n",
       "    <tr>\n",
       "      <th>8521</th>\n",
       "      <td>7.210</td>\n",
       "      <td>2</td>\n",
       "      <td>0.145221</td>\n",
       "      <td>13</td>\n",
       "      <td>103.1332</td>\n",
       "      <td>1</td>\n",
       "      <td>2</td>\n",
       "      <td>2</td>\n",
       "      <td>4</td>\n",
       "      <td>7.521100</td>\n",
       "      <td>3</td>\n",
       "    </tr>\n",
       "    <tr>\n",
       "      <th>8522</th>\n",
       "      <td>14.800</td>\n",
       "      <td>0</td>\n",
       "      <td>0.044878</td>\n",
       "      <td>14</td>\n",
       "      <td>75.4670</td>\n",
       "      <td>2</td>\n",
       "      <td>0</td>\n",
       "      <td>1</td>\n",
       "      <td>16</td>\n",
       "      <td>6.642056</td>\n",
       "      <td>8</td>\n",
       "    </tr>\n",
       "  </tbody>\n",
       "</table>\n",
       "<p>8523 rows × 11 columns</p>\n",
       "</div>"
      ],
      "text/plain": [
       "      item_weight  item_fat_content  item_visibility  item_type  item_mrp  \\\n",
       "0           9.300                 0         0.016047          4  249.8092   \n",
       "1           5.920                 2         0.019278         14   48.2692   \n",
       "2          17.500                 0         0.016760         10  141.6180   \n",
       "3          19.200                 2         0.000000          6  182.0950   \n",
       "4           8.930                 1         0.000000          9   53.8614   \n",
       "...           ...               ...              ...        ...       ...   \n",
       "8518        6.865                 0         0.056783         13  214.5218   \n",
       "8519        8.380                 2         0.046982          0  108.1570   \n",
       "8520       10.600                 1         0.035186          8   85.1224   \n",
       "8521        7.210                 2         0.145221         13  103.1332   \n",
       "8522       14.800                 0         0.044878         14   75.4670   \n",
       "\n",
       "      outlet_size  outlet_location_type  outlet_type  outlet_years  \\\n",
       "0               1                     0            1            14   \n",
       "1               1                     2            2             4   \n",
       "2               1                     0            1            14   \n",
       "3               1                     2            0            15   \n",
       "4               0                     2            1            26   \n",
       "...           ...                   ...          ...           ...   \n",
       "8518            0                     2            1            26   \n",
       "8519            1                     1            1            11   \n",
       "8520            2                     1            1             9   \n",
       "8521            1                     2            2             4   \n",
       "8522            2                     0            1            16   \n",
       "\n",
       "      Item_Outlet_Sales  Outlet  \n",
       "0              8.225808       9  \n",
       "1              6.096776       3  \n",
       "2              7.648868       9  \n",
       "3              6.597664       0  \n",
       "4              6.903451       1  \n",
       "...                 ...     ...  \n",
       "8518           7.929984       1  \n",
       "8519           6.310436       7  \n",
       "8520           7.085159       6  \n",
       "8521           7.521100       3  \n",
       "8522           6.642056       8  \n",
       "\n",
       "[8523 rows x 11 columns]"
      ]
     },
     "execution_count": 16,
     "metadata": {},
     "output_type": "execute_result"
    }
   ],
   "source": [
    "data"
   ]
  },
  {
   "cell_type": "code",
   "execution_count": null,
   "id": "9b051dcf",
   "metadata": {},
   "outputs": [],
   "source": []
  },
  {
   "cell_type": "code",
   "execution_count": 17,
   "id": "12a7e067",
   "metadata": {},
   "outputs": [],
   "source": [
    "Y = data.Item_Outlet_Sales.values\n",
    "X = data.drop('Item_Outlet_Sales',axis = 1)\n",
    "from sklearn.preprocessing import StandardScaler\n",
    "scaler = StandardScaler()\n",
    "X_scaled = scaler.fit_transform(X)\n",
    "\n",
    "\n",
    "from sklearn.model_selection import train_test_split\n",
    "X_train,X_test,Y_train,Y_test = train_test_split(X_scaled,Y,test_size = 0.2,random_state = 2)\n",
    "from sklearn.preprocessing import StandardScaler\n",
    "scaler = StandardScaler()"
   ]
  },
  {
   "cell_type": "code",
   "execution_count": 18,
   "id": "af8a64bc",
   "metadata": {},
   "outputs": [],
   "source": [
    "from sklearn.linear_model import LinearRegression,Ridge,Lasso\n",
    "from sklearn.ensemble import RandomForestRegressor\n",
    "from sklearn.svm import SVR\n",
    "from sklearn.tree import DecisionTreeRegressor\n",
    "from sklearn.neighbors import KNeighborsRegressor\n",
    "\n",
    "dt_reg = DecisionTreeRegressor(random_state = 0)\n",
    "neigh = KNeighborsRegressor(n_neighbors=2)\n",
    "lin_reg = LinearRegression()\n",
    "rid_reg = Ridge()\n",
    "svm_reg = SVR()\n",
    "rf_reg = RandomForestRegressor(max_depth = 3)"
   ]
  },
  {
   "cell_type": "code",
   "execution_count": null,
   "id": "bbf3c787",
   "metadata": {},
   "outputs": [],
   "source": []
  },
  {
   "cell_type": "code",
   "execution_count": 19,
   "id": "de857a76",
   "metadata": {
    "scrolled": true
   },
   "outputs": [],
   "source": [
    "from sklearn.model_selection import cross_val_score\n",
    "from sklearn.metrics import mean_squared_error\n",
    "\n",
    "#for lasso regression with different cvs\n",
    "alphas = [0.1,0.001,0.005,0.008,0.0005,0.006,0.008,0.0001]\n",
    "error = []\n",
    "alpha = []\n",
    "for i in range(1,10):\n",
    "    alpha.append(i/1000)\n",
    "    las_reg = Lasso(alpha = i/1000)\n",
    "    error.append(np.mean(cross_val_score(las_reg,X_train,Y_train,cv = 5,scoring = 'neg_mean_absolute_error')))"
   ]
  },
  {
   "cell_type": "code",
   "execution_count": 20,
   "id": "74b99f75",
   "metadata": {},
   "outputs": [
    {
     "data": {
      "text/plain": [
       "[<matplotlib.lines.Line2D at 0x1ed64716f40>]"
      ]
     },
     "execution_count": 20,
     "metadata": {},
     "output_type": "execute_result"
    },
    {
     "data": {
      "image/png": "[encoded data removed]",
      "text/plain": [
       "<Figure size 432x288 with 1 Axes>"
      ]
     },
     "metadata": {
      "needs_background": "light"
     },
     "output_type": "display_data"
    }
   ],
   "source": [
    "plt.plot(alpha,error)"
   ]
  },
  {
   "cell_type": "code",
   "execution_count": 21,
   "id": "3166951b",
   "metadata": {},
   "outputs": [
    {
     "data": {
      "text/html": [
       "<div>\n",
       "<style scoped>\n",
       "    .dataframe tbody tr th:only-of-type {\n",
       "        vertical-align: middle;\n",
       "    }\n",
       "\n",
       "    .dataframe tbody tr th {\n",
       "        vertical-align: top;\n",
       "    }\n",
       "\n",
       "    .dataframe thead th {\n",
       "        text-align: right;\n",
       "    }\n",
       "</style>\n",
       "<table border=\"1\" class=\"dataframe\">\n",
       "  <thead>\n",
       "    <tr style=\"text-align: right;\">\n",
       "      <th></th>\n",
       "      <th>alpha</th>\n",
       "      <th>error</th>\n",
       "    </tr>\n",
       "  </thead>\n",
       "  <tbody>\n",
       "    <tr>\n",
       "      <th>0</th>\n",
       "      <td>0.001</td>\n",
       "      <td>-0.513885</td>\n",
       "    </tr>\n",
       "  </tbody>\n",
       "</table>\n",
       "</div>"
      ],
      "text/plain": [
       "   alpha     error\n",
       "0  0.001 -0.513885"
      ]
     },
     "execution_count": 21,
     "metadata": {},
     "output_type": "execute_result"
    }
   ],
   "source": [
    "err = tuple(zip(alpha,error))\n",
    "df_err = pd.DataFrame(err,columns = ['alpha','error'])\n",
    "df_err[df_err.error == max(df_err.error)]"
   ]
  },
  {
   "cell_type": "code",
   "execution_count": 22,
   "id": "0e886bf5",
   "metadata": {},
   "outputs": [
    {
     "data": {
      "text/plain": [
       "0.5934778230441238"
      ]
     },
     "execution_count": 22,
     "metadata": {},
     "output_type": "execute_result"
    }
   ],
   "source": [
    "new_las_reg = Lasso(alpha = 0.004)\n",
    "las_cv_score = cross_val_score(new_las_reg,X_train,Y_train,cv = 5)\n",
    "np.mean(las_cv_score)"
   ]
  },
  {
   "cell_type": "code",
   "execution_count": 23,
   "id": "8ec318e8",
   "metadata": {},
   "outputs": [],
   "source": [
    "from sklearn.metrics import r2_score,mean_squared_error\n",
    "from sklearn.model_selection import cross_val_score"
   ]
  },
  {
   "cell_type": "code",
   "execution_count": null,
   "id": "51afdecd",
   "metadata": {},
   "outputs": [],
   "source": []
  },
  {
   "cell_type": "code",
   "execution_count": 24,
   "id": "2c1cf554",
   "metadata": {},
   "outputs": [],
   "source": [
    "def train_df(models_list,x_train,x_test,y_train,y_test):\n",
    "    models = []\n",
    "    cv_scores = []\n",
    "    mses = []\n",
    "    R2_score = []\n",
    "    for model in models_list:\n",
    "        models.append(model)\n",
    "        #training the model\n",
    "        model.fit(x_train,y_train)\n",
    "        cv_score = cross_val_score(model, x_train,y_train,cv=5)\n",
    "        cv_score = np.mean(cv_score)\n",
    "        cv_scores.append(cv_score)\n",
    "        y_pred = model.predict(x_test)\n",
    "        mse = mean_squared_error(y_test,y_pred)\n",
    "        mses.append(mse)\n",
    "        score = r2_score(y_test,y_pred)\n",
    "        R2_score.append(score)\n",
    "    return models,cv_scores,mses,R2_score\n"
   ]
  },
  {
   "cell_type": "code",
   "execution_count": 25,
   "id": "fcb51e97",
   "metadata": {},
   "outputs": [],
   "source": [
    "input_list = [lin_reg,new_las_reg,rid_reg,svm_reg,dt_reg,neigh]"
   ]
  },
  {
   "cell_type": "code",
   "execution_count": 28,
   "id": "e3f1885d",
   "metadata": {},
   "outputs": [
    {
     "data": {
      "text/plain": [
       "([LinearRegression(),\n",
       "  Lasso(alpha=0.004),\n",
       "  Ridge(),\n",
       "  SVR(),\n",
       "  DecisionTreeRegressor(random_state=0),\n",
       "  KNeighborsRegressor(n_neighbors=2)],\n",
       " [0.5935568373639856,\n",
       "  0.5934778230441238,\n",
       "  0.5935572056053051,\n",
       "  0.7222923741687944,\n",
       "  0.446016687125672,\n",
       "  0.5842054152151769],\n",
       " [0.42193230613640387,\n",
       "  0.4218193861244658,\n",
       "  0.4219287323922452,\n",
       "  0.27908023970943147,\n",
       "  0.5443678125880861,\n",
       "  0.41285575498343347],\n",
       " [0.5846146074459644,\n",
       "  0.5847257753342818,\n",
       "  0.5846181257381138,\n",
       "  0.7252501094611618,\n",
       "  0.46407887180702845,\n",
       "  0.593550322272443])"
      ]
     },
     "execution_count": 28,
     "metadata": {},
     "output_type": "execute_result"
    }
   ],
   "source": [
    "models,cv_scores,mses,R2_score = train_df(input_list,X_train,X_test,Y_train,Y_test)\n",
    "train_df(input_list,X_train,X_test,Y_train,Y_test)"
   ]
  },
  {
   "cell_type": "code",
   "execution_count": 29,
   "id": "51dde6f6",
   "metadata": {},
   "outputs": [
    {
     "data": {
      "text/html": [
       "<div>\n",
       "<style scoped>\n",
       "    .dataframe tbody tr th:only-of-type {\n",
       "        vertical-align: middle;\n",
       "    }\n",
       "\n",
       "    .dataframe tbody tr th {\n",
       "        vertical-align: top;\n",
       "    }\n",
       "\n",
       "    .dataframe thead th {\n",
       "        text-align: right;\n",
       "    }\n",
       "</style>\n",
       "<table border=\"1\" class=\"dataframe\">\n",
       "  <thead>\n",
       "    <tr style=\"text-align: right;\">\n",
       "      <th></th>\n",
       "      <th>Model</th>\n",
       "      <th>CV_Score</th>\n",
       "      <th>MSE</th>\n",
       "      <th>R2_Score</th>\n",
       "    </tr>\n",
       "  </thead>\n",
       "  <tbody>\n",
       "    <tr>\n",
       "      <th>0</th>\n",
       "      <td>LinearRegression()</td>\n",
       "      <td>0.593557</td>\n",
       "      <td>0.421932</td>\n",
       "      <td>0.584615</td>\n",
       "    </tr>\n",
       "    <tr>\n",
       "      <th>1</th>\n",
       "      <td>Lasso(alpha=0.004)</td>\n",
       "      <td>0.593478</td>\n",
       "      <td>0.421819</td>\n",
       "      <td>0.584726</td>\n",
       "    </tr>\n",
       "    <tr>\n",
       "      <th>2</th>\n",
       "      <td>Ridge()</td>\n",
       "      <td>0.593557</td>\n",
       "      <td>0.421929</td>\n",
       "      <td>0.584618</td>\n",
       "    </tr>\n",
       "    <tr>\n",
       "      <th>3</th>\n",
       "      <td>SVR()</td>\n",
       "      <td>0.722292</td>\n",
       "      <td>0.279080</td>\n",
       "      <td>0.725250</td>\n",
       "    </tr>\n",
       "    <tr>\n",
       "      <th>4</th>\n",
       "      <td>DecisionTreeRegressor(random_state=0)</td>\n",
       "      <td>0.446017</td>\n",
       "      <td>0.544368</td>\n",
       "      <td>0.464079</td>\n",
       "    </tr>\n",
       "    <tr>\n",
       "      <th>5</th>\n",
       "      <td>KNeighborsRegressor(n_neighbors=2)</td>\n",
       "      <td>0.584205</td>\n",
       "      <td>0.412856</td>\n",
       "      <td>0.593550</td>\n",
       "    </tr>\n",
       "  </tbody>\n",
       "</table>\n",
       "</div>"
      ],
      "text/plain": [
       "                                   Model  CV_Score       MSE  R2_Score\n",
       "0                     LinearRegression()  0.593557  0.421932  0.584615\n",
       "1                     Lasso(alpha=0.004)  0.593478  0.421819  0.584726\n",
       "2                                Ridge()  0.593557  0.421929  0.584618\n",
       "3                                  SVR()  0.722292  0.279080  0.725250\n",
       "4  DecisionTreeRegressor(random_state=0)  0.446017  0.544368  0.464079\n",
       "5     KNeighborsRegressor(n_neighbors=2)  0.584205  0.412856  0.593550"
      ]
     },
     "execution_count": 29,
     "metadata": {},
     "output_type": "execute_result"
    }
   ],
   "source": [
    "pd.DataFrame({'Model': models,'CV_Score' : cv_scores,'MSE' : mses,'R2_Score' : R2_score})"
   ]
  },
  {
   "cell_type": "code",
   "execution_count": null,
   "id": "62b26730",
   "metadata": {},
   "outputs": [],
   "source": [
    "def mono_train(model,x_train,x_test,y_train,y_test):\n",
    "    #training the model\n",
    "    model.fit(x_train,y_train)\n",
    "    cv_score = cross_val_score(model, x_train,y_train,cv=5)\n",
    "    cv_score = np.mean(cv_score)\n",
    "    print('cv_Score',cv_score)\n",
    "    y_pred = model.predict(x_test)\n",
    "    mse = mean_squared_error(y_test,y_pred)\n",
    "    print('mse',mse)\n",
    "    score = r2_score(Y_test,y_pred)\n",
    "    print('r2_score',score)"
   ]
  },
  {
   "cell_type": "code",
   "execution_count": null,
   "id": "7c54bce5",
   "metadata": {},
   "outputs": [],
   "source": [
    "data.head()"
   ]
  },
  {
   "cell_type": "code",
   "execution_count": null,
   "id": "ed8d522b",
   "metadata": {},
   "outputs": [],
   "source": [
    "svm_reg.predict([X_test[1,:]])"
   ]
  },
  {
   "cell_type": "code",
   "execution_count": null,
   "id": "0a1978af",
   "metadata": {},
   "outputs": [],
   "source": [
    "np.exp(8.25595716) -1"
   ]
  },
  {
   "cell_type": "code",
   "execution_count": null,
   "id": "c0b72b21",
   "metadata": {},
   "outputs": [],
   "source": [
    "Y_test[1]"
   ]
  },
  {
   "cell_type": "code",
   "execution_count": null,
   "id": "6674af88",
   "metadata": {},
   "outputs": [],
   "source": [
    "X.columns"
   ]
  },
  {
   "cell_type": "code",
   "execution_count": null,
   "id": "b0d13497",
   "metadata": {},
   "outputs": [],
   "source": [
    "X['outlet_type'].unique()"
   ]
  },
  {
   "cell_type": "code",
   "execution_count": null,
   "id": "7f368e08",
   "metadata": {},
   "outputs": [],
   "source": [
    "train['outlet_size'].unique()"
   ]
  },
  {
   "cell_type": "code",
   "execution_count": null,
   "id": "a85b4315",
   "metadata": {},
   "outputs": [],
   "source": [
    "pd.set_option('display.max_colwidth', None)\n",
    "X"
   ]
  },
  {
   "cell_type": "code",
   "execution_count": null,
   "id": "1987334b",
   "metadata": {},
   "outputs": [],
   "source": [
    "X['Outlet'].unique()"
   ]
  },
  {
   "cell_type": "code",
   "execution_count": null,
   "id": "499c48c0",
   "metadata": {},
   "outputs": [],
   "source": [
    "df['outlet_identifier'].unique()"
   ]
  },
  {
   "cell_type": "code",
   "execution_count": null,
   "id": "2ff43157",
   "metadata": {},
   "outputs": [],
   "source": [
    "X.columns"
   ]
  },
  {
   "cell_type": "code",
   "execution_count": 30,
   "id": "121bc5ce",
   "metadata": {},
   "outputs": [
    {
     "data": {
      "text/plain": [
       "Index(['item_weight', 'item_fat_content', 'item_visibility', 'item_type',\n",
       "       'item_mrp', 'outlet_size', 'outlet_location_type', 'outlet_type',\n",
       "       'outlet_years', 'Item_Outlet_Sales', 'Outlet'],\n",
       "      dtype='object')"
      ]
     },
     "execution_count": 30,
     "metadata": {},
     "output_type": "execute_result"
    }
   ],
   "source": [
    "data.columns"
   ]
  },
  {
   "cell_type": "code",
   "execution_count": 32,
   "id": "bcaf4096",
   "metadata": {},
   "outputs": [
    {
     "data": {
      "text/plain": [
       "array([0, 2, 1])"
      ]
     },
     "execution_count": 32,
     "metadata": {},
     "output_type": "execute_result"
    }
   ],
   "source": [
    "data['item_fat_content'].unique()"
   ]
  },
  {
   "cell_type": "code",
   "execution_count": 34,
   "id": "39ee83bc",
   "metadata": {},
   "outputs": [
    {
     "data": {
      "text/plain": [
       "array(['LOW FAT', 'REGULAR', 'Non-Edible'], dtype=object)"
      ]
     },
     "execution_count": 34,
     "metadata": {},
     "output_type": "execute_result"
    }
   ],
   "source": [
    "train['item_fat_content'].unique()"
   ]
  },
  {
   "cell_type": "code",
   "execution_count": 35,
   "id": "4bd155da",
   "metadata": {},
   "outputs": [
    {
     "data": {
      "text/plain": [
       "array([ 4, 14, 10,  6,  9,  0, 13,  5,  2,  8,  7,  3,  1, 15, 11, 12])"
      ]
     },
     "execution_count": 35,
     "metadata": {},
     "output_type": "execute_result"
    }
   ],
   "source": [
    "data['item_type'].unique()"
   ]
  },
  {
   "cell_type": "code",
   "execution_count": 36,
   "id": "121fd30e",
   "metadata": {},
   "outputs": [
    {
     "data": {
      "text/plain": [
       "array(['Dairy', 'Soft Drinks', 'Meat', 'Fruits and Vegetables',\n",
       "       'Household', 'Baking Goods', 'Snack Foods', 'Frozen Foods',\n",
       "       'Breakfast', 'Health and Hygiene', 'Hard Drinks', 'Canned',\n",
       "       'Breads', 'Starchy Foods', 'Others', 'Seafood'], dtype=object)"
      ]
     },
     "execution_count": 36,
     "metadata": {},
     "output_type": "execute_result"
    }
   ],
   "source": [
    "train['item_type'].unique()"
   ]
  },
  {
   "cell_type": "code",
   "execution_count": 38,
   "id": "daae918b",
   "metadata": {},
   "outputs": [
    {
     "data": {
      "text/plain": [
       "array([0, 2, 1])"
      ]
     },
     "execution_count": 38,
     "metadata": {},
     "output_type": "execute_result"
    }
   ],
   "source": [
    "data['outlet_location_type'].unique()"
   ]
  },
  {
   "cell_type": "code",
   "execution_count": 39,
   "id": "d8347120",
   "metadata": {},
   "outputs": [
    {
     "data": {
      "text/plain": [
       "array(['Tier 1', 'Tier 3', 'Tier 2'], dtype=object)"
      ]
     },
     "execution_count": 39,
     "metadata": {},
     "output_type": "execute_result"
    }
   ],
   "source": [
    "train['outlet_location_type'].unique()"
   ]
  },
  {
   "cell_type": "code",
   "execution_count": 48,
   "id": "c3dc7c78",
   "metadata": {},
   "outputs": [
    {
     "data": {
      "text/plain": [
       "array([9, 3, 0, 1, 5, 7, 2, 8, 6, 4])"
      ]
     },
     "execution_count": 48,
     "metadata": {},
     "output_type": "execute_result"
    }
   ],
   "source": [
    "data['Outlet'].unique()"
   ]
  },
  {
   "cell_type": "code",
   "execution_count": 51,
   "id": "acac156c",
   "metadata": {},
   "outputs": [
    {
     "data": {
      "text/plain": [
       "array(['OUT049', 'OUT018', 'OUT010', 'OUT013', 'OUT027', 'OUT045',\n",
       "       'OUT017', 'OUT046', 'OUT035', 'OUT019'], dtype=object)"
      ]
     },
     "execution_count": 51,
     "metadata": {},
     "output_type": "execute_result"
    }
   ],
   "source": [
    "train['outlet_identifier'].unique()"
   ]
  },
  {
   "cell_type": "code",
   "execution_count": 44,
   "id": "74542aa7",
   "metadata": {},
   "outputs": [
    {
     "data": {
      "text/html": [
       "<div>\n",
       "<style scoped>\n",
       "    .dataframe tbody tr th:only-of-type {\n",
       "        vertical-align: middle;\n",
       "    }\n",
       "\n",
       "    .dataframe tbody tr th {\n",
       "        vertical-align: top;\n",
       "    }\n",
       "\n",
       "    .dataframe thead th {\n",
       "        text-align: right;\n",
       "    }\n",
       "</style>\n",
       "<table border=\"1\" class=\"dataframe\">\n",
       "  <thead>\n",
       "    <tr style=\"text-align: right;\">\n",
       "      <th></th>\n",
       "      <th>item_weight</th>\n",
       "      <th>item_fat_content</th>\n",
       "      <th>item_visibility</th>\n",
       "      <th>item_type</th>\n",
       "      <th>item_mrp</th>\n",
       "      <th>outlet_size</th>\n",
       "      <th>outlet_location_type</th>\n",
       "      <th>outlet_type</th>\n",
       "      <th>outlet_years</th>\n",
       "      <th>Outlet</th>\n",
       "    </tr>\n",
       "  </thead>\n",
       "  <tbody>\n",
       "    <tr>\n",
       "      <th>0</th>\n",
       "      <td>9.300</td>\n",
       "      <td>0</td>\n",
       "      <td>0.016047</td>\n",
       "      <td>4</td>\n",
       "      <td>249.8092</td>\n",
       "      <td>1</td>\n",
       "      <td>0</td>\n",
       "      <td>1</td>\n",
       "      <td>14</td>\n",
       "      <td>9</td>\n",
       "    </tr>\n",
       "    <tr>\n",
       "      <th>1</th>\n",
       "      <td>5.920</td>\n",
       "      <td>2</td>\n",
       "      <td>0.019278</td>\n",
       "      <td>14</td>\n",
       "      <td>48.2692</td>\n",
       "      <td>1</td>\n",
       "      <td>2</td>\n",
       "      <td>2</td>\n",
       "      <td>4</td>\n",
       "      <td>3</td>\n",
       "    </tr>\n",
       "    <tr>\n",
       "      <th>2</th>\n",
       "      <td>17.500</td>\n",
       "      <td>0</td>\n",
       "      <td>0.016760</td>\n",
       "      <td>10</td>\n",
       "      <td>141.6180</td>\n",
       "      <td>1</td>\n",
       "      <td>0</td>\n",
       "      <td>1</td>\n",
       "      <td>14</td>\n",
       "      <td>9</td>\n",
       "    </tr>\n",
       "    <tr>\n",
       "      <th>3</th>\n",
       "      <td>19.200</td>\n",
       "      <td>2</td>\n",
       "      <td>0.000000</td>\n",
       "      <td>6</td>\n",
       "      <td>182.0950</td>\n",
       "      <td>1</td>\n",
       "      <td>2</td>\n",
       "      <td>0</td>\n",
       "      <td>15</td>\n",
       "      <td>0</td>\n",
       "    </tr>\n",
       "    <tr>\n",
       "      <th>4</th>\n",
       "      <td>8.930</td>\n",
       "      <td>1</td>\n",
       "      <td>0.000000</td>\n",
       "      <td>9</td>\n",
       "      <td>53.8614</td>\n",
       "      <td>0</td>\n",
       "      <td>2</td>\n",
       "      <td>1</td>\n",
       "      <td>26</td>\n",
       "      <td>1</td>\n",
       "    </tr>\n",
       "    <tr>\n",
       "      <th>...</th>\n",
       "      <td>...</td>\n",
       "      <td>...</td>\n",
       "      <td>...</td>\n",
       "      <td>...</td>\n",
       "      <td>...</td>\n",
       "      <td>...</td>\n",
       "      <td>...</td>\n",
       "      <td>...</td>\n",
       "      <td>...</td>\n",
       "      <td>...</td>\n",
       "    </tr>\n",
       "    <tr>\n",
       "      <th>8518</th>\n",
       "      <td>6.865</td>\n",
       "      <td>0</td>\n",
       "      <td>0.056783</td>\n",
       "      <td>13</td>\n",
       "      <td>214.5218</td>\n",
       "      <td>0</td>\n",
       "      <td>2</td>\n",
       "      <td>1</td>\n",
       "      <td>26</td>\n",
       "      <td>1</td>\n",
       "    </tr>\n",
       "    <tr>\n",
       "      <th>8519</th>\n",
       "      <td>8.380</td>\n",
       "      <td>2</td>\n",
       "      <td>0.046982</td>\n",
       "      <td>0</td>\n",
       "      <td>108.1570</td>\n",
       "      <td>1</td>\n",
       "      <td>1</td>\n",
       "      <td>1</td>\n",
       "      <td>11</td>\n",
       "      <td>7</td>\n",
       "    </tr>\n",
       "    <tr>\n",
       "      <th>8520</th>\n",
       "      <td>10.600</td>\n",
       "      <td>1</td>\n",
       "      <td>0.035186</td>\n",
       "      <td>8</td>\n",
       "      <td>85.1224</td>\n",
       "      <td>2</td>\n",
       "      <td>1</td>\n",
       "      <td>1</td>\n",
       "      <td>9</td>\n",
       "      <td>6</td>\n",
       "    </tr>\n",
       "    <tr>\n",
       "      <th>8521</th>\n",
       "      <td>7.210</td>\n",
       "      <td>2</td>\n",
       "      <td>0.145221</td>\n",
       "      <td>13</td>\n",
       "      <td>103.1332</td>\n",
       "      <td>1</td>\n",
       "      <td>2</td>\n",
       "      <td>2</td>\n",
       "      <td>4</td>\n",
       "      <td>3</td>\n",
       "    </tr>\n",
       "    <tr>\n",
       "      <th>8522</th>\n",
       "      <td>14.800</td>\n",
       "      <td>0</td>\n",
       "      <td>0.044878</td>\n",
       "      <td>14</td>\n",
       "      <td>75.4670</td>\n",
       "      <td>2</td>\n",
       "      <td>0</td>\n",
       "      <td>1</td>\n",
       "      <td>16</td>\n",
       "      <td>8</td>\n",
       "    </tr>\n",
       "  </tbody>\n",
       "</table>\n",
       "<p>8523 rows × 10 columns</p>\n",
       "</div>"
      ],
      "text/plain": [
       "      item_weight  item_fat_content  item_visibility  item_type  item_mrp  \\\n",
       "0           9.300                 0         0.016047          4  249.8092   \n",
       "1           5.920                 2         0.019278         14   48.2692   \n",
       "2          17.500                 0         0.016760         10  141.6180   \n",
       "3          19.200                 2         0.000000          6  182.0950   \n",
       "4           8.930                 1         0.000000          9   53.8614   \n",
       "...           ...               ...              ...        ...       ...   \n",
       "8518        6.865                 0         0.056783         13  214.5218   \n",
       "8519        8.380                 2         0.046982          0  108.1570   \n",
       "8520       10.600                 1         0.035186          8   85.1224   \n",
       "8521        7.210                 2         0.145221         13  103.1332   \n",
       "8522       14.800                 0         0.044878         14   75.4670   \n",
       "\n",
       "      outlet_size  outlet_location_type  outlet_type  outlet_years  Outlet  \n",
       "0               1                     0            1            14       9  \n",
       "1               1                     2            2             4       3  \n",
       "2               1                     0            1            14       9  \n",
       "3               1                     2            0            15       0  \n",
       "4               0                     2            1            26       1  \n",
       "...           ...                   ...          ...           ...     ...  \n",
       "8518            0                     2            1            26       1  \n",
       "8519            1                     1            1            11       7  \n",
       "8520            2                     1            1             9       6  \n",
       "8521            1                     2            2             4       3  \n",
       "8522            2                     0            1            16       8  \n",
       "\n",
       "[8523 rows x 10 columns]"
      ]
     },
     "execution_count": 44,
     "metadata": {},
     "output_type": "execute_result"
    }
   ],
   "source": [
    "X"
   ]
  },
  {
   "cell_type": "code",
   "execution_count": null,
   "id": "eb42e0eb",
   "metadata": {},
   "outputs": [],
   "source": []
  }
 ],
 "metadata": {
  "kernelspec": {
   "display_name": "Python 3 (ipykernel)",
   "language": "python",
   "name": "python3"
  },
  "language_info": {
   "codemirror_mode": {
    "name": "ipython",
    "version": 3
   },
   "file_extension": ".py",
   "mimetype": "text/x-python",
   "name": "python",
   "nbconvert_exporter": "python",
   "pygments_lexer": "ipython3",
   "version": "3.9.7"
  }
 },
 "nbformat": 4,
 "nbformat_minor": 5
}
